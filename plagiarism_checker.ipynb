{
  "nbformat": 4,
  "nbformat_minor": 0,
  "metadata": {
    "colab": {
      "name": "plagiarism checker",
      "provenance": [],
      "collapsed_sections": [],
      "authorship_tag": "ABX9TyPhtJkq/kOVDnG8T4Sw+Ca1",
      "include_colab_link": true
    },
    "kernelspec": {
      "name": "python3",
      "display_name": "Python 3"
    },
    "language_info": {
      "name": "python"
    }
  },
  "cells": [
    {
      "cell_type": "markdown",
      "metadata": {
        "id": "view-in-github",
        "colab_type": "text"
      },
      "source": [
        "<a href=\"https://colab.research.google.com/github/vtf05/ezcomm-backend/blob/feature%2Fml/plagiarism_checker.ipynb\" target=\"_parent\"><img src=\"https://colab.research.google.com/assets/colab-badge.svg\" alt=\"Open In Colab\"/></a>"
      ]
    },
    {
      "cell_type": "code",
      "metadata": {
        "id": "mCjXiUU2b062"
      },
      "source": [
        "import numpy as  np\n"
      ],
      "execution_count": null,
      "outputs": []
    }
  ]
}